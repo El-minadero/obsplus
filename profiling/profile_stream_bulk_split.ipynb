{
 "cells": [
  {
   "cell_type": "markdown",
   "metadata": {
    "collapsed": true
   },
   "source": [
    "# Profile stream_bulk_split\n",
    "\n",
    "A simple notebook to profile the function `stream_bulk_split` from obsplus.waveforms.utils"
   ]
  },
  {
   "cell_type": "code",
   "execution_count": null,
   "metadata": {},
   "outputs": [],
   "source": [
    "import timeit\n",
    "from functools import reduce\n",
    "from operator import add\n",
    "\n",
    "import obsplus\n",
    "import obspy\n",
    "import pandas as pd\n",
    "from obsplus.waveforms.utils import stream_bulk_split"
   ]
  },
  {
   "cell_type": "code",
   "execution_count": null,
   "metadata": {},
   "outputs": [],
   "source": [
    "# define params to profile\n",
    "# num_traces = [3, 6, 12, 30, 60, 90]\n",
    "# num_bulk = [3, 6, 12, 30]\n",
    "\n",
    "\n",
    "num_traces = [6, 18, 24]\n",
    "num_bulk = [6, 12, 24]"
   ]
  },
  {
   "cell_type": "code",
   "execution_count": null,
   "metadata": {},
   "outputs": [],
   "source": [
    "# get stream(s)\n",
    "stream_dict = {}\n",
    "for stream_num in num_traces:\n",
    "    st = reduce(add, [obspy.read() for _ in range(stream_num // 3)])\n",
    "    stream_dict[stream_num] = st"
   ]
  },
  {
   "cell_type": "code",
   "execution_count": null,
   "metadata": {},
   "outputs": [],
   "source": [
    "st_original = obspy.read()\n",
    "# get bulk dict\n",
    "bulk_dict = {}\n",
    "for bulk_num in num_bulk:\n",
    "    bulk = []\n",
    "    for bnum in range(bulk_num // 3):\n",
    "        sub_bulk = []\n",
    "        for tr in st_original:\n",
    "            t1 = tr.stats.starttime + 1\n",
    "            t2 = tr.stats.endtime + 1\n",
    "            sub_bulk.append(tr.id.split('.') + [t1, t2])\n",
    "        bulk.extend(sub_bulk)\n",
    "    bulk_dict[bulk_num] = bulk"
   ]
  },
  {
   "cell_type": "code",
   "execution_count": null,
   "metadata": {},
   "outputs": [],
   "source": [
    "df = pd.DataFrame(columns=list(stream_dict), index=list(bulk_dict))\n",
    "df.columns.name = 'trace_count'\n",
    "df.index.name = 'bulk_count'\n",
    "\n",
    "for tr_num, st in stream_dict.items():\n",
    "    for bulk_num, bulk in bulk_dict.items():\n",
    "        print(f'bulk: {bulk_num}, tr_num: {tr_num}')\n",
    "        assert len(st) == tr_num\n",
    "        assert len(bulk) == bulk_num\n",
    "        \n",
    "        out = %timeit -o stream_bulk_split(st, bulk)\n",
    "        print('')\n",
    "        df.loc[bulk_num, tr_num] = out.average\n",
    "        \n",
    "#         %timeit stream_bulk_split(st, bulk)\n",
    "        \n"
   ]
  },
  {
   "cell_type": "code",
   "execution_count": null,
   "metadata": {},
   "outputs": [],
   "source": [
    "df.head()"
   ]
  },
  {
   "cell_type": "code",
   "execution_count": null,
   "metadata": {},
   "outputs": [],
   "source": [
    "# %load_ext snakeviz"
   ]
  },
  {
   "cell_type": "code",
   "execution_count": null,
   "metadata": {},
   "outputs": [],
   "source": [
    "# %%snakeviz\n",
    "# stream_bulk_split(st, bulk)"
   ]
  }
 ],
 "metadata": {
  "kernelspec": {
   "display_name": "Python 3",
   "language": "python",
   "name": "python3"
  },
  "language_info": {
   "codemirror_mode": {
    "name": "ipython",
    "version": 3
   },
   "file_extension": ".py",
   "mimetype": "text/x-python",
   "name": "python",
   "nbconvert_exporter": "python",
   "pygments_lexer": "ipython3",
   "version": "3.7.3"
  }
 },
 "nbformat": 4,
 "nbformat_minor": 1
}
