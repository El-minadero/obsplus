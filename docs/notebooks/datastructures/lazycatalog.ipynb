{
 "cells": [
  {
   "cell_type": "markdown",
   "metadata": {},
   "source": [
    "# LazyCatalog \n",
    "The `LazyCatalog` mimics the obspy `Catalog` interface, except that each element is loaded dynamically (i.e. just when it is needed). This makes working with larger than memory catalogs possible and improves IO efficiency. For the most part, you don't have to worry about what the lazy catalog is doing; it should behave exactly like the `Catalog` objects you know and love, but it does have extra capabilities that can be useful when they are needed. \n",
    "\n",
    "For example:"
   ]
  },
  {
   "cell_type": "code",
   "execution_count": null,
   "metadata": {},
   "outputs": [],
   "source": [
    "import obsplus\n",
    "# load example catalog and create lazy version\n",
    "ds = obsplus.load_dataset('crandall')\n",
    "cat = ds.event_client.get_events()\n",
    "lazycat = obsplus.events.LazyCatalog(cat)"
   ]
  },
  {
   "cell_type": "markdown",
   "metadata": {},
   "source": [
    "At this point there is no difference between `cat` and `lazycat`, but if we flush the lazy catalog (save all the loaded components to an in-memory SQLite database) and clear all its cached catalog objects then there is a difference."
   ]
  },
  {
   "cell_type": "code",
   "execution_count": null,
   "metadata": {},
   "outputs": [],
   "source": [
    "lazycat.flush(clear=True)"
   ]
  },
  {
   "cell_type": "code",
   "execution_count": null,
   "metadata": {},
   "outputs": [],
   "source": [
    "print(lazycat)"
   ]
  },
  {
   "cell_type": "code",
   "execution_count": null,
   "metadata": {},
   "outputs": [],
   "source": []
  }
 ],
 "metadata": {
  "kernelspec": {
   "display_name": "Python 3",
   "language": "python",
   "name": "python3"
  },
  "language_info": {
   "codemirror_mode": {
    "name": "ipython",
    "version": 3
   },
   "file_extension": ".py",
   "mimetype": "text/x-python",
   "name": "python",
   "nbconvert_exporter": "python",
   "pygments_lexer": "ipython3",
   "version": "3.7.0"
  }
 },
 "nbformat": 4,
 "nbformat_minor": 2
}
