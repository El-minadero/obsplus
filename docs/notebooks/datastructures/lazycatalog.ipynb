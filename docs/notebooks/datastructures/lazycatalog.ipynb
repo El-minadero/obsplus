{
 "cells": [
  {
   "cell_type": "markdown",
   "metadata": {},
   "source": [
    "# LazyCatalog \n",
    "The `LazyCatalog` mimics the obspy `Catalog` interface, except that each element is loaded dynamically (i.e. just when it is needed). This makes working with larger than memory catalogs possible and improves IO efficiency. For the most part, you don't have to worry about what the lazy catalog is doing; it should behave exactly like the `Catalog` objects you know and love, but it does have extra capabilities that can be useful when they are needed. \n",
    "\n",
    "For example:"
   ]
  },
  {
   "cell_type": "code",
   "execution_count": 1,
   "metadata": {},
   "outputs": [],
   "source": [
    "import obsplus\n",
    "# load example catalog and create lazy version\n",
    "ds = obsplus.load_dataset('crandall')\n",
    "cat = ds.event_client.get_events()\n",
    "lazycat = obsplus.events.LazyCatalog(cat)"
   ]
  },
  {
   "cell_type": "markdown",
   "metadata": {},
   "source": [
    "At this point there is no difference between `cat` and `lazycat`, but if we flush the lazy catalog (save all the loaded components to an in-memory SQLite database) and clear all its cached catalog objects then there is a difference."
   ]
  },
  {
   "cell_type": "code",
   "execution_count": 2,
   "metadata": {},
   "outputs": [],
   "source": [
    "lazycat.flush(clear=True)"
   ]
  },
  {
   "cell_type": "code",
   "execution_count": 3,
   "metadata": {},
   "outputs": [
    {
     "name": "stdout",
     "output_type": "stream",
     "text": [
      "8 Event(s) in Catalog:\n",
      "2007-08-06T01:44:48.810000Z | +39.462, -111.238 | 2.32 ml\n",
      "2007-08-06T10:47:25.600000Z | +39.462, -111.232 | 1.92 ml\n",
      "2007-08-06T08:48:40.010000Z | +39.464, -111.228 | 4.2 mb\n",
      "2007-08-07T02:14:24.080000Z | +39.463, -111.223 | 1.17 ml\n",
      "2007-08-07T03:44:18.470000Z | +39.462, -111.215 | 1.68 ml\n",
      "2007-08-07T02:05:04.490000Z | +39.465, -111.225 | 2.44 ml\n",
      "2007-08-07T21:42:51.130000Z | +39.463, -111.220 | 1.88 ml\n",
      "2007-08-07T07:13:05.760000Z | +39.461, -111.224 | 2.55 ml\n"
     ]
    }
   ],
   "source": [
    "print(lazycat)"
   ]
  },
  {
   "cell_type": "code",
   "execution_count": null,
   "metadata": {},
   "outputs": [],
   "source": []
  }
 ],
 "metadata": {
  "kernelspec": {
   "display_name": "Python 3",
   "language": "python",
   "name": "python3"
  },
  "language_info": {
   "codemirror_mode": {
    "name": "ipython",
    "version": 3
   },
   "file_extension": ".py",
   "mimetype": "text/x-python",
   "name": "python",
   "nbconvert_exporter": "python",
   "pygments_lexer": "ipython3",
   "version": "3.7.0"
  }
 },
 "nbformat": 4,
 "nbformat_minor": 2
}
